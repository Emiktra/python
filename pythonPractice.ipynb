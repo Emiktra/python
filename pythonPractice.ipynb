{
 "cells": [
  {
   "cell_type": "code",
   "execution_count": 10,
   "source": [
    "a = print\r\n",
    "a(23)"
   ],
   "outputs": [
    {
     "output_type": "stream",
     "name": "stdout",
     "text": [
      "23\n"
     ]
    }
   ],
   "metadata": {}
  },
  {
   "cell_type": "code",
   "execution_count": 13,
   "source": [
    "c = \"\"\"hekki\r\n",
    "there\r\n",
    "man\r\n",
    "man\"\"\"\r\n",
    "print(c)\r\n",
    "print(c[2])"
   ],
   "outputs": [
    {
     "output_type": "stream",
     "name": "stdout",
     "text": [
      "hekki\n",
      "there\n",
      "man\n",
      "man\n",
      "k\n"
     ]
    }
   ],
   "metadata": {}
  },
  {
   "cell_type": "code",
   "execution_count": 14,
   "source": [
    "striii = \"shsfjdf\"\r\n",
    "print(striii.count(\"f\"))"
   ],
   "outputs": [
    {
     "output_type": "stream",
     "name": "stdout",
     "text": [
      "2\n"
     ]
    }
   ],
   "metadata": {}
  },
  {
   "cell_type": "code",
   "execution_count": 30,
   "source": [
    "dict1 = {\r\n",
    "  \"ahad\": \"erer\",\r\n",
    "  \"dkfdf\": 44,\r\n",
    "}\r\n",
    "\r\n",
    "print(dict1.get(\"ahad\"))\r\n",
    "print(dict1[\"dkfdf\"], \"\\n\")\r\n",
    "print(dict1.values())\r\n",
    "print(dict1.keys())\r\n",
    "dict1.clear()  #cleares dictionaries content\r\n",
    "del dict1 #deletes dictionary\r\n"
   ],
   "outputs": [
    {
     "output_type": "stream",
     "name": "stdout",
     "text": [
      "erer\n",
      "44 \n",
      "\n",
      "dict_values(['erer', 44])\n",
      "dict_keys(['ahad', 'dkfdf'])\n"
     ]
    }
   ],
   "metadata": {}
  },
  {
   "cell_type": "code",
   "execution_count": 36,
   "source": [
    "for i in range(6):\r\n",
    "  print((1+i)*\"a\")\r\n",
    "print(\"\\naha\")"
   ],
   "outputs": [
    {
     "output_type": "stream",
     "name": "stdout",
     "text": [
      "a\n",
      "aa\n",
      "aaa\n",
      "aaaa\n",
      "aaaaa\n",
      "aaaaaa\n",
      "\n",
      "aha\n"
     ]
    }
   ],
   "metadata": {}
  }
 ],
 "metadata": {
  "orig_nbformat": 4,
  "language_info": {
   "name": "python",
   "version": "3.9.2",
   "mimetype": "text/x-python",
   "codemirror_mode": {
    "name": "ipython",
    "version": 3
   },
   "pygments_lexer": "ipython3",
   "nbconvert_exporter": "python",
   "file_extension": ".py"
  },
  "kernelspec": {
   "name": "python3",
   "display_name": "Python 3.9.2 64-bit"
  },
  "interpreter": {
   "hash": "39d9b7ef0a48d5cdd6bf56938aace5376e5a5681969e134ab04e1fae4922a190"
  }
 },
 "nbformat": 4,
 "nbformat_minor": 2
}